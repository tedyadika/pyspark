{
  "nbformat": 4,
  "nbformat_minor": 2,
  "metadata": {
    "kernelspec": {
      "name": "synapse_pyspark",
      "display_name": "Synapse PySpark"
    },
    "language_info": {
      "name": "python"
    },
    "save_output": true,
    "synapse_widget": {
      "version": "0.1",
      "state": {}
    }
  },
  "cells": [
    {
      "cell_type": "markdown",
      "metadata": {
        "nteract": {
          "transient": {
            "deleting": false
          }
        }
      },
      "source": [
        "# OUTBOUND \r\n",
        "#### DATA: ALL ORDERS WITH - KPI WITH INFO ABOUT SHIPMENT ALLOCATED BEFORE SCHEDULED TRANSPORT\r\n",
        "#### GRANULARITY LEVEL: ORDER"
      ]
    },
    {
      "cell_type": "markdown",
      "metadata": {
        "nteract": {
          "transient": {
            "deleting": false
          }
        }
      },
      "source": [
        "## Parameters"
      ]
    },
    {
      "cell_type": "code",
      "execution_count": 56,
      "outputs": [],
      "metadata": {
        "tags": [
          "parameters"
        ]
      },
      "source": [
        "# Parameter Cell\r\n",
        "object_name=\"OUT_ORD_SALC\"\r\n",
        "instance_name=\"czpoh_2\"\r\n",
        "\r\n",
        "\r\n",
        "config_path = 'abfss://production@dscglblceedadlsppldnsazr.dfs.core.windows.net/config'\r\n",
        "bronze_path = f'abfss://production@dscglblceedadlsppldnsazr.dfs.core.windows.net/bronze/blueyonder_wms/{instance_name}'\r\n",
        "silver_path = f'abfss://production@dscglblceedadlsppldnsazr.dfs.core.windows.net/silver/{instance_name}'\r\n",
        "gold_path = f'abfss://production@dscglblceedadlsppldnsazr.dfs.core.windows.net/gold/{instance_name}'"
      ]
    },
    {
      "cell_type": "markdown",
      "metadata": {
        "nteract": {
          "transient": {
            "deleting": false
          }
        }
      },
      "source": [
        "## Data Calculation Parameters"
      ]
    },
    {
      "cell_type": "code",
      "execution_count": 57,
      "outputs": [],
      "metadata": {
        "jupyter": {
          "source_hidden": false,
          "outputs_hidden": false
        },
        "nteract": {
          "transient": {
            "deleting": false
          }
        }
      },
      "source": [
        "# cond_dict_KPI_FLG = {'NEW_COLUMN':'DW_KPI_RELEVANT_FLAG',\r\n",
        "#                     'SOURCE_COLUMN':'USR_ID',\r\n",
        "#                      'VALUE_O_LIST':[],\r\n",
        "#                      'VALUE_1_LIST':['NOUSER','slInAdapter_111'],\r\n",
        "#                     'DEFAULT_VALUE':0}"
      ]
    },
    {
      "cell_type": "code",
      "execution_count": 58,
      "outputs": [],
      "metadata": {
        "jupyter": {
          "source_hidden": false,
          "outputs_hidden": false
        },
        "nteract": {
          "transient": {
            "deleting": false
          }
        }
      },
      "source": [
        "# column_order = ['WH_ID',\r\n",
        "#                 'CLIENT_ID',\r\n",
        "#                 'ORDNUM',\r\n",
        "#                 'ADDDTE',\r\n",
        "#                  'DW_MIN_TRNDTE',\r\n",
        "#                  'DW_MAX_TRNDTE',\r\n",
        "#                 'DW_CHANNEL',\r\n",
        "#                 'DW_CATEGORY',\r\n",
        "#                 'DW_SUBCATEGORY',\r\n",
        "#                 'ORDTYP',\r\n",
        "#                 'CPOTYP',\r\n",
        "#                 'CPONUM',\r\n",
        "#                 'STORE_TYP'\r\n",
        "#                 ]"
      ]
    },
    {
      "cell_type": "markdown",
      "metadata": {
        "nteract": {
          "transient": {
            "deleting": false
          }
        }
      },
      "source": [
        "## Imports and Configuration"
      ]
    },
    {
      "cell_type": "code",
      "execution_count": 59,
      "outputs": [],
      "metadata": {
        "jupyter": {
          "source_hidden": false,
          "outputs_hidden": true
        },
        "nteract": {
          "transient": {
            "deleting": false
          }
        }
      },
      "source": [
        "## code to make timestamps below 1900-01-01 work\r\n",
        "spark.conf.set(\"spark.sql.legacy.parquet.int96RebaseModeInRead\", \"CORRECTED\")\r\n",
        "spark.conf.set(\"spark.sql.legacy.parquet.int96RebaseModeInWrite\", \"CORRECTED\")\r\n",
        "spark.conf.set(\"spark.sql.legacy.parquet.datetimeRebaseModeInRead\", \"CORRECTED\")"
      ]
    },
    {
      "cell_type": "code",
      "execution_count": 60,
      "outputs": [],
      "metadata": {
        "jupyter": {
          "source_hidden": false,
          "outputs_hidden": false
        },
        "nteract": {
          "transient": {
            "deleting": false
          }
        }
      },
      "source": [
        "import delta.tables as DT\r\n",
        "import pyspark.sql.functions as F\r\n",
        "import pyspark.sql.types as T\r\n",
        "from datetime import datetime\r\n",
        "from pyspark.sql.window import Window\r\n",
        "from pyspark.sql.functions import row_number"
      ]
    },
    {
      "cell_type": "markdown",
      "metadata": {
        "nteract": {
          "transient": {
            "deleting": false
          }
        }
      },
      "source": [
        "##  Loading Source Tables from Bronze Layer"
      ]
    },
    {
      "cell_type": "code",
      "execution_count": 61,
      "outputs": [],
      "metadata": {
        "jupyter": {
          "source_hidden": false,
          "outputs_hidden": false
        },
        "nteract": {
          "transient": {
            "deleting": false
          }
        }
      },
      "source": [
        "## ORDER related tables\r\n",
        "df_ORDACT= (spark\r\n",
        ".read\r\n",
        ".format(\"delta\")\r\n",
        ".load(f\"{bronze_path}/ORDACT\")\r\n",
        ".where(\"DW_DELETED_FLAG = FALSE AND ACTCOD IN ('SALC')\")\r\n",
        ")\r\n",
        "\r\n",
        "\r\n",
        "df_ORD=(spark\r\n",
        ".read\r\n",
        ".format(\"delta\")\r\n",
        ".load(f\"{bronze_path}/ORD\")\r\n",
        ".where('DW_DELETED_FLAG = FALSE AND CPOTYP = \"50\"')\r\n",
        ")\r\n",
        "\r\n",
        "df_ORD_NOTE=(spark\r\n",
        ".read\r\n",
        ".format(\"delta\")\r\n",
        ".load(f\"{bronze_path}/ORD_NOTE\")\r\n",
        ".where('DW_DELETED_FLAG = FALSE AND NOTTXT like \"%Cancelled due to store limit\"')\r\n",
        ")\r\n",
        "\r\n",
        "df_SHIPMENT=(spark\r\n",
        ".read\r\n",
        ".format(\"delta\")\r\n",
        ".load(f\"{bronze_path}/SHIPMENT\")\r\n",
        ".where('DW_DELETED_FLAG = FALSE AND SHPSTS <> \"B\"')\r\n",
        ")\r\n",
        "\r\n",
        "df_CSTMST=(spark\r\n",
        ".read\r\n",
        ".format(\"delta\")\r\n",
        ".load(f\"{bronze_path}/CSTMST\")\r\n",
        ".where('DW_DELETED_FLAG = FALSE AND DW_VALID_FLAG = TRUE')\r\n",
        ".select(F.expr('CSTNUM AS STCUST'),'CLIENT_ID','STORE_TYP')\r\n",
        ")\r\n",
        "# TRLR DISPATCH related tables\r\n",
        ""
      ]
    },
    {
      "cell_type": "markdown",
      "metadata": {
        "nteract": {
          "transient": {
            "deleting": false
          }
        }
      },
      "source": [
        "### 1.Take all orders with cpotyp = 50 and add info about store_typ"
      ]
    },
    {
      "cell_type": "code",
      "execution_count": 62,
      "outputs": [],
      "metadata": {
        "jupyter": {
          "source_hidden": false,
          "outputs_hidden": false
        },
        "nteract": {
          "transient": {
            "deleting": false
          }
        }
      },
      "source": [
        "df_ORD_basic_info = df_ORD\\\r\n",
        ".select('WH_ID','CLIENT_ID','ORDNUM','ADDDTE', 'CPONUM','ORDTYP','CPOTYP','STCUST')\\\r\n",
        ".join(df_CSTMST, ['STCUST', 'CLIENT_ID'], how='left')"
      ]
    },
    {
      "cell_type": "code",
      "execution_count": 63,
      "outputs": [],
      "metadata": {
        "jupyter": {
          "source_hidden": false,
          "outputs_hidden": false
        },
        "nteract": {
          "transient": {
            "deleting": false
          }
        }
      },
      "source": [
        "## commments\r\n",
        "## df_ORD_basic_info.count()  2890295\r\n",
        "## df_ORD_basic_info.where('STORE_TYP IS NULL').count() 101"
      ]
    },
    {
      "cell_type": "markdown",
      "metadata": {
        "nteract": {
          "transient": {
            "deleting": false
          }
        }
      },
      "source": [
        "### 2. Take shipment allocation for shipments that were not cancelled"
      ]
    },
    {
      "cell_type": "code",
      "execution_count": 64,
      "outputs": [],
      "metadata": {
        "jupyter": {
          "source_hidden": false,
          "outputs_hidden": false
        },
        "nteract": {
          "transient": {
            "deleting": false
          }
        }
      },
      "source": [
        "df_ORDACT_SALC_time = df_ORDACT.join(df_SHIPMENT,['SHIP_ID','WH_ID'],how='inner')\\\r\n",
        ".groupBy('ORDNUM','CLIENT_ID','WH_ID')\\\r\n",
        ".agg(F.min('TRNDTE').alias('DW_MIN_TRNDTE'),\r\n",
        "     F.max('TRNDTE').alias('DW_MAX_TRNDTE'))"
      ]
    },
    {
      "cell_type": "markdown",
      "metadata": {
        "nteract": {
          "transient": {
            "deleting": false
          }
        }
      },
      "source": [
        "## 3. Take info about the order cancellations due to store limit"
      ]
    },
    {
      "cell_type": "code",
      "execution_count": 65,
      "outputs": [],
      "metadata": {
        "jupyter": {
          "source_hidden": false,
          "outputs_hidden": false
        },
        "nteract": {
          "transient": {
            "deleting": false
          }
        },
        "collapsed": false
      },
      "source": [
        "## We take for every order that in ord_note had cancellation due to store limit,\r\n",
        "## ordnum, wh_id, client_id, min(ins_dt), full concatenated note, \r\n",
        "df_notes = df_ORD_NOTE.groupBy('ORDNUM','WH_ID','CLIENT_ID')\\\r\n",
        ".agg(F.min('INS_DT').alias('DW_CANC_STORE_LIMIT_MIN_INS_DT'),\r\n",
        "    F.concat_ws(\", \", F.collect_set(\"NOTTXT\")).alias(\"DW_FULL_NOTTXT\"))\\\r\n",
        ".withColumn('DW_CANC_STORE_LIMIT_FLAG',F.lit(1))\r\n",
        ""
      ]
    },
    {
      "cell_type": "markdown",
      "metadata": {
        "nteract": {
          "transient": {
            "deleting": false
          }
        }
      },
      "source": [
        "## 4. Joining the info about order and allocation"
      ]
    },
    {
      "cell_type": "code",
      "execution_count": 67,
      "outputs": [],
      "metadata": {
        "jupyter": {
          "source_hidden": false,
          "outputs_hidden": false
        },
        "nteract": {
          "transient": {
            "deleting": false
          }
        }
      },
      "source": [
        "df_OUT_ORD_SALC = df_ORD_basic_info\\\r\n",
        ".join(df_ORDACT_SALC_time,['ORDNUM','CLIENT_ID','WH_ID'], how='left')\\\r\n",
        ".join(df_notes,['ORDNUM','CLIENT_ID','WH_ID'], how='left')\\\r\n",
        ".select( \r\n",
        "    'WH_ID',\r\n",
        "    'CLIENT_ID',\r\n",
        "    'ORDNUM',\r\n",
        "    'ADDDTE',\r\n",
        "    'DW_MIN_TRNDTE',\r\n",
        "    'DW_MAX_TRNDTE',\r\n",
        "    F.when(F.col(\"CPOTYP\").isin([\"40\",\"45\"]), \"B2C\")# DW_CHANNEL\r\n",
        "    .when(F.col(\"CPOTYP\").isin([\"50\",\"66\",\"30\",\"20\"]),\"B2B\" )\r\n",
        "    .otherwise('NA').alias(\"DW_CHANNEL\"),\r\n",
        "    F.when(F.col(\"CPOTYP\").isin([\"66\",\"30\",\"20\"]), \"PRIO\") # DW_CATEGORY\r\n",
        "    .when(F.col(\"CPOTYP\").isin([\"50\"]),    \"NORMAL\")\r\n",
        "    .otherwise('NA').alias(\"DW_CATEGORY\"),\r\n",
        "    F.when(F.col(\"CPOTYP\") == \"66\", \"Two-Step-Cross-Docking\") # DW_SUBCATEGORY\r\n",
        "    .when(F.col(\"CPOTYP\") == \"30\", \"Replenishment\")\r\n",
        "    .when(F.col(\"CPOTYP\") == \"20\", \"KEP-Deliveries\")\r\n",
        "    .otherwise('NA').alias(\"DW_SUBCATEGORY\"),\r\n",
        "    'ORDTYP',\r\n",
        "    'CPOTYP',\r\n",
        "    'CPONUM',\r\n",
        "    'STORE_TYP',\r\n",
        "    \"DW_FULL_NOTTXT\",\r\n",
        "    'DW_CANC_STORE_LIMIT_MIN_INS_DT',\r\n",
        "    \"DW_CANC_STORE_LIMIT_FLAG\",\r\n",
        "    F.date_format(F.date_sub(F.col('ADDDTE'),0),'yQQQ').alias('DW_PARTITION')\r\n",
        "    \r\n",
        ").fillna({\"DW_CANC_STORE_LIMIT_FLAG\":0})\r\n",
        ""
      ]
    },
    {
      "cell_type": "code",
      "execution_count": 68,
      "outputs": [],
      "metadata": {
        "jupyter": {
          "source_hidden": false,
          "outputs_hidden": false
        },
        "nteract": {
          "transient": {
            "deleting": false
          }
        }
      },
      "source": [
        "df_OUT_ORD_SALC = df_OUT_ORD_SALC\\\r\n",
        ".withColumn('DW_KPI_RELEVANT_FLAG', F.when(F.col(\"DW_CANC_STORE_LIMIT_FLAG\")==1,F.lit(1))\r\n",
        "                                      .otherwise(F.lit(0)))"
      ]
    },
    {
      "cell_type": "markdown",
      "metadata": {
        "nteract": {
          "transient": {
            "deleting": false
          }
        }
      },
      "source": [
        "## Saving to Silver"
      ]
    },
    {
      "cell_type": "code",
      "execution_count": 69,
      "outputs": [],
      "metadata": {
        "jupyter": {
          "source_hidden": false,
          "outputs_hidden": false
        },
        "nteract": {
          "transient": {
            "deleting": false
          }
        }
      },
      "source": [
        "df_OUT_ORD_SALC\\\r\n",
        ".coalesce(1)\\\r\n",
        ".write\\\r\n",
        ".format(\"delta\")\\\r\n",
        ".mode(\"overwrite\")\\\r\n",
        ".option(\"overwriteSchema\", \"true\")\\\r\n",
        ".partitionBy('DW_PARTITION')\\\r\n",
        ".save(f\"{silver_path}/{object_name}\")"
      ]
    }
  ]
}