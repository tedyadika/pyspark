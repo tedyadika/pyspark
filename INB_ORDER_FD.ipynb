{
  "cells": [
    {
      "cell_type": "code",
      "source": [
        "# Parameter Cell\r\n",
        "object_name=\"INB_ORDER_DF\"\r\n",
        "instance_name=\"czpoh_2\"\r\n",
        "\r\n",
        "config_path = 'abfss://development@dscglblceedadlstpldnsazr.dfs.core.windows.net/config'\r\n",
        "bronze_path = f'abfss://development@dscglblceedadlstpldnsazr.dfs.core.windows.net/bronze/blueyonder_wms/{instance_name}'\r\n",
        "silver_path = f'abfss://development@dscglblceedadlstpldnsazr.dfs.core.windows.net/silver/{instance_name}'\r\n",
        "gold_path = f'abfss://development@dscglblceedadlstpldnsazr.dfs.core.windows.net/gold/{instance_name}'"
      ],
      "outputs": [],
      "execution_count": 1,
      "metadata": {}
    },
    {
      "cell_type": "markdown",
      "source": [
        "## Imports\r\n"
      ],
      "metadata": {
        "nteract": {
          "transient": {
            "deleting": false
          }
        }
      }
    },
    {
      "cell_type": "code",
      "source": [
        "#imports\r\n",
        "import delta.tables as DT\r\n",
        "import pyspark.sql.functions as F\r\n",
        "import pyspark.sql.types as T\r\n",
        "from datetime import *\r\n",
        "from pyspark.sql.types import StringType,ArrayType"
      ],
      "outputs": [],
      "execution_count": 2,
      "metadata": {
        "jupyter": {
          "source_hidden": false,
          "outputs_hidden": false
        },
        "nteract": {
          "transient": {
            "deleting": false
          }
        }
      }
    },
    {
      "cell_type": "markdown",
      "source": [
        "## Loading Data\r\n"
      ],
      "metadata": {
        "nteract": {
          "transient": {
            "deleting": false
          }
        }
      }
    },
    {
      "cell_type": "code",
      "source": [
        "# load tables that we need (trlr, rcvinv,rcvtrk,inbqlt,usr_rcpt_line_note, calmst)\r\n",
        "# Base tables\r\n",
        "TRLR_string = \"TRLR\"\r\n",
        "RCVTRK_string = \"RCVTRK\" #1:1\r\n",
        "RCVINV_string = \"RCVINV\" # 1:n\r\n",
        "USR_RCPT_LINE_NOTE_string = \"USR_RCPT_LINE_NOTE\" #link with rcvinv\r\n",
        "USR_RCPT_NOTE_string='USR_RCPT_NOTE'\r\n",
        "\r\n",
        "#Additional information tables\r\n",
        "ADRMST_string = \"ADRMST\"\r\n",
        "CARHDR_string = \"CARHDR\"\r\n",
        "SUPMST_string = 'SUPMST'\r\n",
        "INBQLT_string = 'INBQLT'\r\n",
        "\r\n",
        "\r\n",
        "df_TRLR= (spark\r\n",
        ".read\r\n",
        ".format(\"delta\")\r\n",
        ".load(f\"{bronze_path}/{TRLR_string}\")\r\n",
        ".where(\"TRLR_COD='RCV'\")\r\n",
        ".select('TRLR_ID','CARCOD','TRLR_NUM','MODDTE','MOD_USR_ID','DW_SKID_CARHDR','DW_BKID_TRLR')) # 'DW_REFFERENCE_DATE'\r\n",
        "\r\n",
        "df_RCVTRK= (spark\r\n",
        ".read\r\n",
        ".format(\"delta\")\r\n",
        ".load(f\"{bronze_path}/RCVTRK\")\r\n",
        ".select('WH_ID','TRKNUM', 'TRLR_ID', 'TRKREF', 'RCVTRK_STAT')\r\n",
        ")\r\n",
        "\r\n",
        "df_RCVINV= (spark\r\n",
        ".read\r\n",
        ".format(\"delta\")\r\n",
        ".load(f\"{bronze_path}/{RCVINV_string}\")\r\n",
        ".select('CLIENT_ID', 'COMPLETED_DATE', 'CSTMS_TYP', 'DOC_NUM', 'INVNUM', 'INVTYP', 'ORGREF', \"PO_NUM\", 'SADNUM', 'TRKNUM', \r\n",
        "'WAYBIL', 'WH_ID', 'DW_BKID_RCVINV', 'DW_SKID_SUPMST')\r\n",
        ")\r\n",
        "\r\n",
        "df_RCVLIN= (spark\r\n",
        ".read\r\n",
        ".format(\"delta\")\r\n",
        ".load(f\"{bronze_path}/RCVLIN\"))\r\n",
        "\r\n",
        "df_USR_RCPT_LINE_NOTE= (spark\r\n",
        ".read\r\n",
        ".format(\"delta\")\r\n",
        ".load(f\"{bronze_path}/{USR_RCPT_LINE_NOTE_string}\")\r\n",
        ".where(\"NOTTYP = 'REFNR2POS' and DW_VALID_FLAG = TRUE\")\r\n",
        ".select( 'WH_ID', 'NOTTXT', 'CLIENT_ID', 'INVNUM'))\r\n",
        "\r\n",
        "df_USR_RCPT_NOTE= (spark\r\n",
        ".read\r\n",
        ".format(\"delta\")\r\n",
        ".load(f\"{bronze_path}/{USR_RCPT_NOTE_string}\")\r\n",
        ".where(\"NOTTYP = 'ABSLRNAME' and DW_VALID_FLAG = TRUE\")\r\n",
        ".select( 'WH_ID', 'NOTTXT', 'CLIENT_ID', 'INVNUM')\r\n",
        ".withColumnRenamed('NOTTXT','DW_VENDOR_NAME'))\r\n",
        "\r\n",
        "df_ADRMST= (spark\r\n",
        ".read\r\n",
        ".format(\"delta\")\r\n",
        ".load(f\"{bronze_path}/{ADRMST_string}\")\r\n",
        ".where(\"DW_VALID_FLAG = TRUE\")\r\n",
        ".select('ADR_ID', 'CTRY_NAME', 'ADRNAM'))\r\n",
        "\r\n",
        "df_CARHDR= (spark\r\n",
        ".read\r\n",
        ".format(\"delta\")\r\n",
        ".load(f\"{bronze_path}/{CARHDR_string}\")\r\n",
        ".where(\"DW_VALID_FLAG = TRUE\")\r\n",
        ".select('DW_SKID_CARHDR', 'CARNAM')\r\n",
        ")\r\n",
        "\r\n",
        "df_SUPMST= (spark\r\n",
        ".read\r\n",
        ".format(\"delta\")\r\n",
        ".load(f\"{bronze_path}/{SUPMST_string}\")\r\n",
        ".where(\"DW_VALID_FLAG = TRUE\")\r\n",
        ".select('DW_SKID_SUPMST', 'ADR_ID', 'SUPNUM'))\r\n",
        "\r\n",
        "df_INBQLT= (spark\r\n",
        ".read\r\n",
        ".format(\"delta\")\r\n",
        ".load(f\"{bronze_path}/{INBQLT_string}\")\r\n",
        ".where(\"IB_ISSUE like 'DCP%'\")\r\n",
        ".select('WH_ID','TRKNUM','IB_ISSUE')\r\n",
        ".distinct())\r\n"
      ],
      "outputs": [],
      "execution_count": 3,
      "metadata": {
        "jupyter": {
          "source_hidden": false,
          "outputs_hidden": false
        },
        "nteract": {
          "transient": {
            "deleting": false
          }
        }
      }
    },
    {
      "cell_type": "markdown",
      "source": [
        "## columns to select"
      ],
      "metadata": {
        "nteract": {
          "transient": {
            "deleting": false
          }
        }
      }
    },
    {
      "cell_type": "code",
      "source": [
        "columns =[ 'DW_BKID_INBOUND_ORDER',\r\n",
        "             'WH_ID',\r\n",
        "             'INVNUM',\r\n",
        "             'INVTYP',\r\n",
        "             'TRLR_ID',\r\n",
        "             'RCVTRK_STAT',\r\n",
        "             'DW_CHANNEL',\r\n",
        "             'DW_CATEGORY',\r\n",
        "             'DW_VENDOR_NAME',\r\n",
        "             F.expr('COMPLETED_DATE as END_DATE'),\r\n",
        "             'DW_REFERENCE_DTE',\r\n",
        "             'DW_IB_ISSUE_SET',\r\n",
        "             'DW_NOTTXT_SET',       \r\n",
        "             'KPI_RELEVANT_FLG',\r\n",
        "             'DW_NBR_LINES',\r\n",
        "             'DW_NBR_ITEMS',\r\n",
        "             'DW_QTY_EXP',\r\n",
        "             'DW_QTY_REC']"
      ],
      "outputs": [],
      "execution_count": 4,
      "metadata": {
        "jupyter": {
          "source_hidden": false,
          "outputs_hidden": false
        },
        "nteract": {
          "transient": {
            "deleting": false
          }
        }
      }
    },
    {
      "cell_type": "code",
      "source": [
        "KPI_relevant_list = \"'DCP01', 'DCP02', 'DCP04', 'DCP14', 'DCP15', 'DCP16', 'DCP18', 'DCP19', 'DCP20', 'DCP21', 'DCP50', 'DCP99'\"\r\n",
        "NORMAL_list = \"'05','06' \"\r\n",
        "PRIO_list =\"'07','08', '09' \""
      ],
      "outputs": [],
      "execution_count": 5,
      "metadata": {
        "jupyter": {
          "source_hidden": false,
          "outputs_hidden": false
        },
        "nteract": {
          "transient": {
            "deleting": false
          }
        }
      }
    },
    {
      "cell_type": "markdown",
      "source": [
        "## joins\r\n"
      ],
      "metadata": {
        "nteract": {
          "transient": {
            "deleting": false
          }
        }
      }
    },
    {
      "cell_type": "code",
      "source": [
        "#modify and select from INBQLT and USR_RCPT_LINE_NOTE  to make it joinable\r\n",
        "joinable_df_INBQLT = df_INBQLT.groupBy('TRKNUM','WH_ID').agg(F.collect_list('IB_ISSUE').alias(\"DW_IB_ISSUE_SET\"))\r\n",
        "joinable_USR_RCPT_LINE_NOTE = df_USR_RCPT_LINE_NOTE.groupBy('WH_ID','INVNUM',\"CLIENT_ID\").agg(F.collect_set('NOTTXT').alias(\"DW_NOTTXT_SET\"))"
      ],
      "outputs": [],
      "execution_count": 6,
      "metadata": {
        "jupyter": {
          "source_hidden": false,
          "outputs_hidden": false
        },
        "nteract": {
          "transient": {
            "deleting": false
          }
        }
      }
    },
    {
      "cell_type": "code",
      "source": [
        "df_INBOUND_ORDER=(df_RCVINV\r\n",
        ".join(df_RCVTRK, ['TRKNUM','WH_ID'], 'left')\r\n",
        ".join(df_TRLR, ['TRLR_ID'], 'left')\r\n",
        ".join(joinable_df_INBQLT,['TRKNUM','WH_ID'], 'left').alias(\"INBOUND\")\r\n",
        ".join(joinable_USR_RCPT_LINE_NOTE,[df_RCVINV.WH_ID == joinable_USR_RCPT_LINE_NOTE.WH_ID, df_RCVINV.CLIENT_ID == joinable_USR_RCPT_LINE_NOTE.CLIENT_ID, df_RCVINV.PO_NUM == joinable_USR_RCPT_LINE_NOTE.INVNUM],'left')\r\n",
        ".selectExpr('INBOUND.*', 'DW_NOTTXT_SET')\r\n",
        ".join(df_SUPMST, ['DW_SKID_SUPMST'], 'left')\r\n",
        ".join(df_ADRMST, ['ADR_ID'], 'left')\r\n",
        ".join(df_CARHDR, ['DW_SKID_CARHDR'],'left').alias(\"INBOUND\")\r\n",
        ".join(df_USR_RCPT_NOTE,[df_RCVINV.WH_ID == df_USR_RCPT_NOTE.WH_ID, df_RCVINV.CLIENT_ID == df_USR_RCPT_NOTE.CLIENT_ID, df_RCVINV.PO_NUM == df_USR_RCPT_NOTE.INVNUM],'left')\r\n",
        ".selectExpr('INBOUND.*', 'DW_VENDOR_NAME')\r\n",
        ".withColumn('DW_BKID_INBOUND_ORDER', F.concat(*['TRKNUM', 'INVNUM',\"WH_ID\"])))"
      ],
      "outputs": [],
      "execution_count": 7,
      "metadata": {
        "jupyter": {
          "source_hidden": false,
          "outputs_hidden": false
        },
        "nteract": {
          "transient": {
            "deleting": false
          }
        }
      }
    },
    {
      "cell_type": "markdown",
      "source": [
        "## calculations and column addition  \r\n",
        "\r\n"
      ],
      "metadata": {
        "nteract": {
          "transient": {
            "deleting": false
          }
        }
      }
    },
    {
      "cell_type": "code",
      "source": [
        "df_INBOUND_ORDER = (df_INBOUND_ORDER\r\n",
        ".select('*',\r\n",
        "F.lit(\"ALL\").alias('DW_CHANNEL'),\r\n",
        "F.col('COMPLETED_DATE').cast(T.DateType()).alias('DW_REFERENCE_DTE'))\r\n",
        ".withColumn('DW_CATEGORY',\r\n",
        "    F.when(F.array_intersect(F.col('DW_NOTTXT_SET'),F.expr(f\"array({NORMAL_list})\"))!=F.expr(\"array()\"),'NORMAL')\r\n",
        "      .when(F.array_intersect(F.col('DW_NOTTXT_SET'),F.expr(f\"array({PRIO_list})\"))!=F.expr(\"array()\"),'PRIO'))\r\n",
        ".withColumn('KPI_RELEVANT_FLG',  \r\n",
        "    F.when((F.array_intersect(F.col('DW_IB_ISSUE_SET'),F.expr(f\"array({KPI_relevant_list})\"))==F.expr('array()')) | F.expr('DW_IB_ISSUE_SET IS NULL'), 1).otherwise(0)))\r\n",
        "\r\n"
      ],
      "outputs": [],
      "execution_count": 8,
      "metadata": {
        "jupyter": {
          "source_hidden": false,
          "outputs_hidden": false
        },
        "nteract": {
          "transient": {
            "deleting": false
          }
        }
      }
    },
    {
      "cell_type": "markdown",
      "source": [
        "## Getting the Facts using RCVLIN"
      ],
      "metadata": {
        "nteract": {
          "transient": {
            "deleting": false
          }
        }
      }
    },
    {
      "cell_type": "code",
      "source": [
        "df_inord = (df_RCVLIN\r\n",
        ".groupBy('TRKNUM','INVNUM',\"WH_ID\")\r\n",
        ".agg(F.countDistinct('PRTNUM').alias('DW_NBR_LINES'), \r\n",
        "F.count('PRTNUM').alias('DW_NBR_ITEMS'), \r\n",
        "F.sum('EXPQTY').cast(T.IntegerType()).alias('DW_QTY_EXP'), \r\n",
        "F.sum('RCVQTY').cast(T.IntegerType()).alias('DW_QTY_REC'))\r\n",
        ".withColumn('DW_BKID_INBOUND_ORDER', F.concat(*['TRKNUM', 'INVNUM',\"WH_ID\"])))\r\n"
      ],
      "outputs": [],
      "execution_count": 9,
      "metadata": {
        "jupyter": {
          "source_hidden": false,
          "outputs_hidden": false
        },
        "nteract": {
          "transient": {
            "deleting": false
          }
        }
      }
    },
    {
      "cell_type": "code",
      "source": [
        "df_INBOUND = (df_INBOUND_ORDER\r\n",
        ".join(df_inord,['DW_BKID_INBOUND_ORDER','WH_ID','INVNUM','TRKNUM'])\r\n",
        ".select(columns))"
      ],
      "outputs": [],
      "execution_count": 10,
      "metadata": {
        "jupyter": {
          "source_hidden": false,
          "outputs_hidden": false
        },
        "nteract": {
          "transient": {
            "deleting": false
          }
        }
      }
    },
    {
      "cell_type": "markdown",
      "source": [
        "## Saving to silver"
      ],
      "metadata": {
        "nteract": {
          "transient": {
            "deleting": false
          }
        }
      }
    },
    {
      "cell_type": "code",
      "source": [
        "(df_INBOUND\r\n",
        ".write\\\r\n",
        ".format(\"delta\")\r\n",
        ".mode(\"overwrite\")\r\n",
        ".option(\"overwriteSchema\", \"true\")\r\n",
        ".save(f\"{silver_path}/{object_name}\"))"
      ],
      "outputs": [],
      "execution_count": 11,
      "metadata": {
        "jupyter": {
          "source_hidden": false,
          "outputs_hidden": false
        },
        "nteract": {
          "transient": {
            "deleting": false
          }
        }
      }
    }
  ],
  "metadata": {
    "kernelspec": {
      "name": "synapse_pyspark",
      "language": "Python",
      "display_name": "Synapse PySpark"
    },
    "language_info": {
      "name": "python"
    },
    "kernel_info": {
      "name": "synapse_pyspark"
    },
    "save_output": true,
    "synapse_widget": {
      "version": "0.1",
      "state": {}
    }
  },
  "nbformat": 4,
  "nbformat_minor": 2
}