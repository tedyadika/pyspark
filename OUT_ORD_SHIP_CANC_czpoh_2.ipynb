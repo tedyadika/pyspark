{
  "nbformat": 4,
  "nbformat_minor": 2,
  "metadata": {
    "kernelspec": {
      "name": "synapse_pyspark",
      "display_name": "Synapse PySpark"
    },
    "language_info": {
      "name": "python"
    },
    "save_output": true,
    "synapse_widget": {
      "version": "0.1",
      "state": {}
    }
  },
  "cells": [
    {
      "cell_type": "markdown",
      "metadata": {
        "nteract": {
          "transient": {
            "deleting": false
          }
        }
      },
      "source": [
        "# OUTBOUND \r\n",
        "#### DATA: UNION OF CANCELLED ORDERS AND ORDERS THAT WERE FULLY OR PARTIALLY SHIPPED \r\n",
        "#### GRANULARITY LEVEL: ORDER"
      ]
    },
    {
      "cell_type": "markdown",
      "metadata": {
        "nteract": {
          "transient": {
            "deleting": false
          }
        }
      },
      "source": [
        "## Parameters"
      ]
    },
    {
      "cell_type": "code",
      "execution_count": 1,
      "outputs": [],
      "metadata": {
        "tags": [
          "parameters"
        ]
      },
      "source": [
        "# Parameter Cell\r\n",
        "object_name=\"OUT_ORD_SHIP_CANC\"\r\n",
        "instance_name=\"czpoh_2\"\r\n",
        "\r\n",
        "\r\n",
        "config_path = 'abfss://production@dscglblceedadlsppldnsazr.dfs.core.windows.net/config'\r\n",
        "bronze_path = f'abfss://production@dscglblceedadlsppldnsazr.dfs.core.windows.net/bronze/blueyonder_wms/{instance_name}'\r\n",
        "silver_path = f'abfss://production@dscglblceedadlsppldnsazr.dfs.core.windows.net/silver/{instance_name}'\r\n",
        "gold_path = f'abfss://production@dscglblceedadlsppldnsazr.dfs.core.windows.net/gold/{instance_name}'"
      ]
    },
    {
      "cell_type": "markdown",
      "metadata": {
        "nteract": {
          "transient": {
            "deleting": false
          }
        }
      },
      "source": [
        "## Data Calculation Parameters"
      ]
    },
    {
      "cell_type": "code",
      "execution_count": 2,
      "outputs": [],
      "metadata": {
        "jupyter": {
          "source_hidden": false,
          "outputs_hidden": false
        },
        "nteract": {
          "transient": {
            "deleting": false
          }
        }
      },
      "source": [
        "cond_dict_KPI_FLG = {'NEW_COLUMN':'DW_KPI_RELEVANT_FLAG',\r\n",
        "                    'SOURCE_COLUMN':'USR_ID',\r\n",
        "                     'VALUE_O_LIST':[],\r\n",
        "                     'VALUE_1_LIST':['NOUSER','slInAdapter_111'],\r\n",
        "                    'DEFAULT_VALUE':0}"
      ]
    },
    {
      "cell_type": "code",
      "execution_count": 3,
      "outputs": [],
      "metadata": {
        "jupyter": {
          "source_hidden": false,
          "outputs_hidden": false
        },
        "nteract": {
          "transient": {
            "deleting": false
          }
        }
      },
      "source": [
        "column_order = ['WH_ID',\r\n",
        "                'CLIENT_ID',\r\n",
        "                'DW_REFFERENCE_DATE',\r\n",
        "                'ORDNUM',\r\n",
        "                'ADDDTE',\r\n",
        "                'DW_CHANNEL',\r\n",
        "                'DW_CATEGORY',\r\n",
        "                'DW_SUBCATEGORY',\r\n",
        "                'ORDTYP',\r\n",
        "                'CPOTYP',\r\n",
        "                'DW_NBR_LINES',\r\n",
        "                'DW_NBR_CANCELLED_LINES',\r\n",
        "                'DW_SUM_ORDQTY',\r\n",
        "                'DW_SUM_HOST_ORDQTY',\r\n",
        "                'DW_SUM_SHPQTY',\r\n",
        "                'DW_KPI_RELEVANT_FLAG',\r\n",
        "                'DW_KPI_RESULT',\r\n",
        "                'DW_CANCELLED_FLAG',\r\n",
        "                'DW_SHIPPED_FLAG',\r\n",
        "                'REACOD_CMNT',\r\n",
        "                'ORDLIN_CHG_REACOD',\r\n",
        "                'USR_ID',\r\n",
        "                'DW_CANCELLED_DATE',\r\n",
        "                'DW_DISPATCH_DATE',\r\n",
        "                'DW_PARTITION'\r\n",
        "                ]"
      ]
    },
    {
      "cell_type": "markdown",
      "metadata": {
        "nteract": {
          "transient": {
            "deleting": false
          }
        }
      },
      "source": [
        "## Imports and Configuration"
      ]
    },
    {
      "cell_type": "code",
      "execution_count": 4,
      "outputs": [],
      "metadata": {
        "jupyter": {
          "source_hidden": false,
          "outputs_hidden": true
        },
        "nteract": {
          "transient": {
            "deleting": false
          }
        }
      },
      "source": [
        "## code to make timestamps below 1900-01-01 work\r\n",
        "spark.conf.set(\"spark.sql.legacy.parquet.int96RebaseModeInRead\", \"CORRECTED\")\r\n",
        "spark.conf.set(\"spark.sql.legacy.parquet.int96RebaseModeInWrite\", \"CORRECTED\")\r\n",
        "spark.conf.set(\"spark.sql.legacy.parquet.datetimeRebaseModeInRead\", \"CORRECTED\")"
      ]
    },
    {
      "cell_type": "code",
      "execution_count": 5,
      "outputs": [],
      "metadata": {
        "jupyter": {
          "source_hidden": false,
          "outputs_hidden": false
        },
        "nteract": {
          "transient": {
            "deleting": false
          }
        }
      },
      "source": [
        "import delta.tables as DT\r\n",
        "import pyspark.sql.functions as F\r\n",
        "import pyspark.sql.types as T\r\n",
        "from datetime import datetime\r\n",
        "from pyspark.sql.window import Window\r\n",
        "from pyspark.sql.functions import row_number"
      ]
    },
    {
      "cell_type": "markdown",
      "metadata": {
        "nteract": {
          "transient": {
            "deleting": false
          }
        }
      },
      "source": [
        "##  Loading Source Tables from Bronze Layer"
      ]
    },
    {
      "cell_type": "code",
      "execution_count": 6,
      "outputs": [],
      "metadata": {
        "jupyter": {
          "source_hidden": false,
          "outputs_hidden": false
        },
        "nteract": {
          "transient": {
            "deleting": false
          }
        }
      },
      "source": [
        "## ORDER related tables\r\n",
        "df_ORDACT= (spark\r\n",
        ".read\r\n",
        ".format(\"delta\")\r\n",
        ".load(f\"{bronze_path}/ORDACT\")\r\n",
        ".where(\"DW_DELETED_FLAG = FALSE AND ACTCOD IN ('OCAN','SCMPL')\")\r\n",
        ")\r\n",
        "\r\n",
        "\r\n",
        "df_ORD=(spark\r\n",
        ".read\r\n",
        ".format(\"delta\")\r\n",
        ".load(f\"{bronze_path}/ORD\")\r\n",
        ".where('DW_DELETED_FLAG = FALSE AND CPOTYP IS NOT NULL')\r\n",
        ")\r\n",
        "\r\n",
        "df_ORD_LINE=(spark\r\n",
        ".read\r\n",
        ".format(\"delta\")\r\n",
        ".load(f\"{bronze_path}/ORD_LINE\")\r\n",
        ".where('DW_DELETED_FLAG = FALSE')\r\n",
        ".fillna({'ORDQTY':0,'SHPQTY':0,'HOST_ORDQTY':0})\r\n",
        ")\r\n",
        "\r\n",
        "# SHIPMENT tables\r\n",
        "df_SHIPMENT_LINE=(spark\r\n",
        ".read\r\n",
        ".format(\"delta\")\r\n",
        ".load(f\"{bronze_path}/SHIPMENT_LINE\")\r\n",
        ".where('DW_DELETED_FLAG = FALSE')\r\n",
        ")\r\n",
        "\r\n",
        "df_SHIPMENT=(spark\r\n",
        ".read\r\n",
        ".format(\"delta\")\r\n",
        ".load(f\"{bronze_path}/SHIPMENT\")\r\n",
        ".where('DW_DELETED_FLAG = FALSE AND SHPSTS = \"C\"')\r\n",
        ")\r\n",
        "\r\n",
        "# TRLR DISPATCH related tables\r\n",
        "\r\n",
        "df_STOP=(spark\r\n",
        ".read\r\n",
        ".format(\"delta\")\r\n",
        ".load(f\"{bronze_path}/STOP\")\r\n",
        ".where('DW_DELETED_FLAG = FALSE')\r\n",
        ")\r\n",
        "\r\n",
        "df_CAR_MOVE =(spark\r\n",
        ".read\r\n",
        ".format(\"delta\")\r\n",
        ".load(f\"{bronze_path}/CAR_MOVE\")\r\n",
        ".where('DW_DELETED_FLAG = FALSE')\r\n",
        ")\r\n",
        "\r\n",
        "df_TRLR =(spark\r\n",
        ".read\r\n",
        ".format(\"delta\")\r\n",
        ".load(f\"{bronze_path}/TRLR\")\r\n",
        ".where('DW_DELETED_FLAG = FALSE AND TRLR_COD = \"SHIP\" AND TRLR_STAT = \"D\"')\r\n",
        ")"
      ]
    },
    {
      "cell_type": "markdown",
      "metadata": {
        "nteract": {
          "transient": {
            "deleting": false
          }
        }
      },
      "source": [
        "## GETTING DATA WITH CANCELLED ORDERS"
      ]
    },
    {
      "cell_type": "markdown",
      "metadata": {
        "nteract": {
          "transient": {
            "deleting": false
          }
        }
      },
      "source": [
        "#### 1. Getting from ORD_LINE all orders that have all lines cancelled (granularity: order)\r\n",
        "\r\n",
        "       \r\n",
        "\r\n",
        ""
      ]
    },
    {
      "cell_type": "code",
      "execution_count": 7,
      "outputs": [],
      "metadata": {
        "jupyter": {
          "source_hidden": false,
          "outputs_hidden": false
        },
        "nteract": {
          "transient": {
            "deleting": false
          }
        }
      },
      "source": [
        "## Getting orders that have all order lines cancelled \r\n",
        "\r\n",
        "df_ORD_ALL_LINES_CANC = \\\r\n",
        "df_ORD_LINE.groupBy('ORDNUM','WH_ID','CLIENT_ID')\\\r\n",
        ".agg(F.count(\"*\"          ).astype(T.LongType()).alias('DW_NBR_LINES'),\r\n",
        "     F.sum('CANCELLED_FLG').astype(T.LongType()).alias('DW_NBR_CANCELLED_LINES'),\r\n",
        "     F.sum('HOST_ORDQTY'  ).astype(T.LongType()).alias('DW_SUM_HOST_ORDQTY'),\r\n",
        "     F.sum('ORDQTY'       ).astype(T.LongType()).alias('DW_SUM_ORDQTY')\r\n",
        "     )\\\r\n",
        ".where('DW_NBR_LINES = DW_NBR_CANCELLED_LINES')"
      ]
    },
    {
      "cell_type": "code",
      "execution_count": 8,
      "outputs": [],
      "metadata": {
        "jupyter": {
          "source_hidden": false,
          "outputs_hidden": true
        },
        "nteract": {
          "transient": {
            "deleting": false
          }
        },
        "collapsed": false
      },
      "source": [
        "# Count: 114523\r\n",
        "# Count distinct ordnum: 114523\r\n",
        "# df_ORD_ALL_LINES_CANC.count()\r\n",
        "# display(df_ORD_ALL_LINES_CANC.select(F.countDistinct('ORDNUM')))"
      ]
    },
    {
      "cell_type": "markdown",
      "metadata": {
        "nteract": {
          "transient": {
            "deleting": false
          }
        }
      },
      "source": [
        "#### 2. Getting from ORDACT row when last order cancellation happened (granularity: order)\r\n",
        "Last order cancellation (max(trndte) when ordact.actcod = 'OCAN' ) <br>\r\n",
        ""
      ]
    },
    {
      "cell_type": "code",
      "execution_count": 9,
      "outputs": [],
      "metadata": {
        "jupyter": {
          "source_hidden": false,
          "outputs_hidden": false
        },
        "nteract": {
          "transient": {
            "deleting": false
          }
        }
      },
      "source": [
        "## Getting max trndte for 'OCAN' per order\r\n",
        "\r\n",
        "\r\n",
        "df_ORDACT_last_cancel_key = df_ORDACT.where('ACTCOD = \"OCAN\"')\\\r\n",
        ".groupBy('ORDNUM','WH_ID','CLIENT_ID')\\\r\n",
        ".agg(F.max('ORDACT_ID').alias('ORDACT_ID'),\r\n",
        "     F.max('TRNDTE').alias('TRNDTE'))\r\n",
        "\r\n",
        "## Getting full row ORDACT info for last('OCAN') in order\r\n",
        "df_ORDACT_last_cancel = \\\r\n",
        "df_ORDACT.where('ACTCOD = \"OCAN\"')\\\r\n",
        ".join(df_ORDACT_last_cancel_key,['ORDNUM','WH_ID','CLIENT_ID','ORDACT_ID','TRNDTE'], 'left_semi')\\\r\n",
        ".select('ORDNUM','WH_ID','CLIENT_ID','TRNDTE','USR_ID','REACOD_CMNT','ORDLIN_CHG_REACOD','ORDACT_ID')"
      ]
    },
    {
      "cell_type": "code",
      "execution_count": 10,
      "outputs": [],
      "metadata": {
        "jupyter": {
          "source_hidden": false,
          "outputs_hidden": true
        },
        "nteract": {
          "transient": {
            "deleting": false
          }
        }
      },
      "source": [
        "## count: 122828 - df_ORDACT_last_cancel.count()\r\n",
        "## count: 122828 - df_ORDACT_last_cancel_key.count()\r\n",
        "# print('all',df_ORDACT_last_cancel.count())\r\n",
        "# print('key',df_ORDACT_last_cancel_key.count())"
      ]
    },
    {
      "cell_type": "markdown",
      "metadata": {
        "nteract": {
          "transient": {
            "deleting": false
          }
        }
      },
      "source": [
        "## 3. Joining orders with all lines cancelled to ord and ordact to add needed columns"
      ]
    },
    {
      "cell_type": "code",
      "execution_count": 11,
      "outputs": [],
      "metadata": {
        "jupyter": {
          "source_hidden": false,
          "outputs_hidden": false
        },
        "nteract": {
          "transient": {
            "deleting": false
          }
        }
      },
      "source": [
        "# Joining ord and ordact to ord_lines for additional columns\r\n",
        "df_ORD_CANC = \\\r\n",
        "df_ORD.select('ORDNUM','WH_ID','CLIENT_ID','CPOTYP','ADDDTE','ORDTYP')\\\r\n",
        ".join(df_ORD_ALL_LINES_CANC,['ORDNUM','WH_ID','CLIENT_ID'],how='inner' )\\\r\n",
        ".join(df_ORDACT_last_cancel,['ORDNUM','WH_ID','CLIENT_ID'],how='inner')"
      ]
    },
    {
      "cell_type": "code",
      "execution_count": 12,
      "outputs": [],
      "metadata": {
        "jupyter": {
          "source_hidden": false,
          "outputs_hidden": true
        },
        "nteract": {
          "transient": {
            "deleting": false
          }
        }
      },
      "source": [
        "## count 114523 df_ORD_CANC.count()\r\n",
        "## count 10, df_ORD_CANC.where('ORDACT_ID IS NULL').count()\r\n",
        "##  df_ORD_CANC.count()\r\n",
        "## df_ORD_CANC.where('ORDACT_ID IS NULL').count()\r\n",
        "## count of orders that still have shipment line associated with shipment wich does not have shipment status Cancelled (7)\r\n",
        "## display(df_ORD_CANC.join(df_SHIPMENT_LINE,['ORDNUM'], how='inner').join(df_SHIPMENT,['SHIP_ID'], how='inner'))\r\n",
        "\r\n",
        "### ISSUES with data quality\r\n",
        "## Issues: 10 orders have all lines cancelled but don't have 'OCAN' action in ordact\r\n",
        "## Issues: 7 orders are associated with shipment_line on shipment with shpsts <> B"
      ]
    },
    {
      "cell_type": "markdown",
      "metadata": {
        "nteract": {
          "transient": {
            "deleting": false
          }
        }
      },
      "source": [
        "### 4. Select columns for cancelled orders"
      ]
    },
    {
      "cell_type": "code",
      "execution_count": 13,
      "outputs": [],
      "metadata": {
        "jupyter": {
          "source_hidden": false,
          "outputs_hidden": false
        },
        "nteract": {
          "transient": {
            "deleting": false
          }
        }
      },
      "source": [
        "## Selecting columns \r\n",
        "df_ORD_CANC_final = df_ORD_CANC.select(\\\r\n",
        "    'ORDNUM',\r\n",
        "    'WH_ID',\r\n",
        "    'CLIENT_ID',\r\n",
        "    'DW_SUM_ORDQTY',\r\n",
        "    'DW_SUM_HOST_ORDQTY',\r\n",
        "     F.lit(0).astype(T.LongType()).alias('DW_SUM_SHPQTY'),\r\n",
        "    'ADDDTE',\r\n",
        "    'USR_ID',\r\n",
        "    'REACOD_CMNT',\r\n",
        "     'ORDLIN_CHG_REACOD',\r\n",
        "     'ORDTYP',\r\n",
        "    'DW_NBR_LINES',\r\n",
        "    'DW_NBR_CANCELLED_LINES',\r\n",
        "     'CPOTYP',\r\n",
        "    F.col('TRNDTE').alias('DW_CANCELLED_DATE'),\r\n",
        "    F.lit(None).alias('DW_DISPATCH_DATE'),\r\n",
        "    F.lit(1).alias('DW_CANCELLED_FLAG'),\r\n",
        "    F.lit(0).alias('DW_SHIPPED_FLAG'),\r\n",
        "    F.date_sub(F.col('TRNDTE'),0).alias('DW_REFFERENCE_DATE'),\r\n",
        "    F.when(F.col(cond_dict_KPI_FLG['SOURCE_COLUMN']).isin(cond_dict_KPI_FLG['VALUE_O_LIST']),F.lit(0)) # KPI_RELEVANT_FLAG\r\n",
        "     .when(F.col(cond_dict_KPI_FLG['SOURCE_COLUMN']).isin(cond_dict_KPI_FLG['VALUE_1_LIST']),F.lit(1))\r\n",
        "     .otherwise(F.lit(cond_dict_KPI_FLG['DEFAULT_VALUE'])).alias(cond_dict_KPI_FLG['NEW_COLUMN']),\r\n",
        "    F.when(F.col(\"CPOTYP\").isin([\"40\",\"45\"]), \"B2C\")# DW_CHANNEL\r\n",
        "    .when(F.col(\"CPOTYP\").isin([\"50\",\"66\",\"30\",\"20\"]),\"B2B\" )\r\n",
        "    .otherwise('NA').alias(\"DW_CHANNEL\"),\r\n",
        "    F.when(F.col(\"CPOTYP\").isin([\"66\",\"30\",\"20\"]), \"PRIO\") # DW_CATEGORY\r\n",
        "    .when(F.col(\"CPOTYP\").isin([\"50\"]),    \"NORMAL\")\r\n",
        "    .otherwise('NA').alias(\"DW_CATEGORY\"),\r\n",
        "    F.when(F.col(\"CPOTYP\") == \"66\", \"Two-Step-Cross-Docking\") # DW_SUBCATEGORY\r\n",
        "    .when(F.col(\"CPOTYP\") == \"30\", \"Replenishment\")\r\n",
        "    .when(F.col(\"CPOTYP\") == \"20\", \"KEP-Deliveries\")\r\n",
        "    .otherwise('NA').alias(\"DW_SUBCATEGORY\"),\r\n",
        "    F.lit(0).alias('DW_KPI_RESULT'),\r\n",
        "    F.date_format(F.date_sub(F.col('TRNDTE'),0),'yQQQ').alias('DW_PARTITION'), ## DW_PARTITION (YearQuarter, Example:'2020Q3')\r\n",
        ")"
      ]
    },
    {
      "cell_type": "markdown",
      "metadata": {
        "nteract": {
          "transient": {
            "deleting": false
          }
        }
      },
      "source": [
        "## Getting data for orders that were fully or partially shipped"
      ]
    },
    {
      "cell_type": "markdown",
      "metadata": {
        "nteract": {
          "transient": {
            "deleting": false
          }
        }
      },
      "source": [
        "### 1. All orders that have some lines that were not cancelled"
      ]
    },
    {
      "cell_type": "code",
      "execution_count": 14,
      "outputs": [],
      "metadata": {
        "jupyter": {
          "source_hidden": false,
          "outputs_hidden": false
        },
        "nteract": {
          "transient": {
            "deleting": false
          }
        }
      },
      "source": [
        "# orders with some lines that were not cancelled\r\n",
        "df_ORD_VALID_LINES = df_ORD_LINE\\\r\n",
        ".withColumn('SHPQTY', F.when(F.col('SHPQTY')>F.col('HOST_ORDQTY'), F.col('HOST_ORDQTY')).otherwise(F.col('SHPQTY')))\\\r\n",
        ".groupBy('ORDNUM','WH_ID','CLIENT_ID')\\\r\n",
        ".agg(F.count(\"*\"          ).astype(T.LongType()).alias('DW_NBR_LINES'),\r\n",
        "     F.sum('CANCELLED_FLG').astype(T.LongType()).alias('DW_NBR_CANCELLED_LINES'),\r\n",
        "     F.sum('HOST_ORDQTY'  ).astype(T.LongType()).alias('DW_SUM_HOST_ORDQTY'),\r\n",
        "     F.sum('ORDQTY'       ).astype(T.LongType()).alias('DW_SUM_ORDQTY'),\r\n",
        "     F.sum('SHPQTY').astype(T.LongType()).alias('DW_SUM_SHPQTY')\r\n",
        "     )\\\r\n",
        ".where('DW_NBR_LINES <> DW_NBR_CANCELLED_LINES')"
      ]
    },
    {
      "cell_type": "code",
      "execution_count": 15,
      "outputs": [],
      "metadata": {
        "jupyter": {
          "source_hidden": false,
          "outputs_hidden": false
        },
        "nteract": {
          "transient": {
            "deleting": false
          }
        }
      },
      "source": [
        "## orders with at least one line valid count, 7560410\r\n",
        "## df_ORD_VALID_LINES.count()"
      ]
    },
    {
      "cell_type": "markdown",
      "metadata": {
        "nteract": {
          "transient": {
            "deleting": false
          }
        }
      },
      "source": [
        "## 2. Getting from ordact where last shipment completed happened"
      ]
    },
    {
      "cell_type": "code",
      "execution_count": 16,
      "outputs": [],
      "metadata": {
        "jupyter": {
          "source_hidden": false,
          "outputs_hidden": false
        },
        "nteract": {
          "transient": {
            "deleting": false
          }
        }
      },
      "source": [
        "# All shipment lines that were shipped (confirmed)\r\n",
        "## Getting max trndte for 'SCMPL' per order\r\n",
        "df_ORDACT_last_scmpl = df_ORDACT.where('ACTCOD = \"SCMPL\"')\\\r\n",
        ".groupBy('ORDNUM','WH_ID','CLIENT_ID')\\\r\n",
        ".agg(F.max('TRNDTE').alias('DISPATCH_DTE'))\r\n",
        "\r\n",
        ""
      ]
    },
    {
      "cell_type": "code",
      "execution_count": 17,
      "outputs": [],
      "metadata": {
        "jupyter": {
          "source_hidden": false,
          "outputs_hidden": true
        },
        "nteract": {
          "transient": {
            "deleting": false
          }
        },
        "collapsed": false
      },
      "source": [
        "## count: 7475220: df_ORDERS_SHIPPED.count()\r\n",
        "## count of distinct ordnums:7475220 df_ORDERS_SHIPPED.select(F.countDistinct('ORDNUM')) \r\n",
        "## df_ORDERS_SHIPPED.count()\r\n",
        "## display(df_ORDERS_SHIPPED.select(F.countDistinct('ORDNUM')))"
      ]
    },
    {
      "cell_type": "markdown",
      "metadata": {
        "nteract": {
          "transient": {
            "deleting": false
          }
        }
      },
      "source": [
        "### 3. Join ord, orders with at least one line that is not cancelled and orders that were fully/partially dispatched"
      ]
    },
    {
      "cell_type": "code",
      "execution_count": 18,
      "outputs": [],
      "metadata": {
        "jupyter": {
          "source_hidden": false,
          "outputs_hidden": false
        },
        "nteract": {
          "transient": {
            "deleting": false
          }
        }
      },
      "source": [
        "df_ORD_SHIPPED = \\\r\n",
        "df_ORD.select('ORDNUM','WH_ID','CLIENT_ID','CPOTYP','ADDDTE','ORDTYP')\\\r\n",
        ".join(df_ORD_VALID_LINES,['ORDNUM','WH_ID','CLIENT_ID'],how='inner' )\\\r\n",
        ".join(df_ORDACT_last_scmpl,['ORDNUM','WH_ID','CLIENT_ID'],how='inner')"
      ]
    },
    {
      "cell_type": "markdown",
      "metadata": {
        "nteract": {
          "transient": {
            "deleting": false
          }
        }
      },
      "source": [
        "### 4. Select columns and add final calculations"
      ]
    },
    {
      "cell_type": "code",
      "execution_count": 19,
      "outputs": [],
      "metadata": {
        "jupyter": {
          "source_hidden": false,
          "outputs_hidden": false
        },
        "nteract": {
          "transient": {
            "deleting": false
          }
        }
      },
      "source": [
        "## Selecting columns \r\n",
        "df_ORD_SHIPPED_final = df_ORD_SHIPPED.select(\r\n",
        "    'ORDNUM',\r\n",
        "    'WH_ID',\r\n",
        "    'CLIENT_ID',\r\n",
        "    'DW_SUM_ORDQTY',\r\n",
        "    'DW_SUM_HOST_ORDQTY',\r\n",
        "    'DW_SUM_SHPQTY',\r\n",
        "    'ADDDTE',\r\n",
        "    F.lit(None).alias('USR_ID'),\r\n",
        "    F.lit(None).alias('REACOD_CMNT'),\r\n",
        "    F.lit(None).alias('ORDLIN_CHG_REACOD'),\r\n",
        "     'ORDTYP',\r\n",
        "    'DW_NBR_LINES',\r\n",
        "    'DW_NBR_CANCELLED_LINES',\r\n",
        "     'CPOTYP',\r\n",
        "    F.lit(None).alias('DW_CANCELLED_DATE'),\r\n",
        "    F.col('DISPATCH_DTE').alias('DW_DISPATCH_DATE'),\r\n",
        "    F.lit(0).alias('DW_CANCELLED_FLAG'),\r\n",
        "    F.lit(1).alias('DW_SHIPPED_FLAG'),\r\n",
        "    F.date_sub(F.col('DISPATCH_DTE'),0).alias('DW_REFFERENCE_DATE'),\r\n",
        "    F.lit(1).alias(cond_dict_KPI_FLG['NEW_COLUMN']),#KPI RELEVANT FLAG\r\n",
        "    F.when(F.col(\"CPOTYP\").isin([\"40\",\"45\"]), \"B2C\")# DW_CHANNEL\r\n",
        "    .when(F.col(\"CPOTYP\").isin([\"50\",\"66\",\"30\",\"20\"]),\"B2B\" )\r\n",
        "    .otherwise('NA').alias(\"DW_CHANNEL\"),\r\n",
        "    F.when(F.col(\"CPOTYP\").isin([\"66\",\"30\",\"20\"]), \"PRIO\") # DW_CATEGORY\r\n",
        "    .when(F.col(\"CPOTYP\").isin([\"50\"]),    \"NORMAL\")\r\n",
        "    .otherwise('NA').alias(\"DW_CATEGORY\"),\r\n",
        "    F.when(F.col(\"CPOTYP\") == \"66\", \"Two-Step-Cross-Docking\") # DW_SUBCATEGORY\r\n",
        "    .when(F.col(\"CPOTYP\") == \"30\", \"Replenishment\")\r\n",
        "    .when(F.col(\"CPOTYP\") == \"20\", \"KEP-Deliveries\")\r\n",
        "    .otherwise('NA').alias(\"DW_SUBCATEGORY\"),\r\n",
        "    F.when(F.col(\"DW_SUM_HOST_ORDQTY\") == F.col(\"DW_SUM_SHPQTY\"), 1) # DW_KPI_RESULTS\r\n",
        "                                .otherwise(0).alias('DW_KPI_RESULT'),\r\n",
        "    F.date_format(F.date_sub(F.col('DISPATCH_DTE'),0),'yQQQ').alias('DW_PARTITION'), ## DW_PARTITION (YearQuarter, Example:'2020Q3')\r\n",
        ")"
      ]
    },
    {
      "cell_type": "markdown",
      "metadata": {
        "nteract": {
          "transient": {
            "deleting": false
          }
        }
      },
      "source": [
        "## Union of Cancelled and Shipped Orders"
      ]
    },
    {
      "cell_type": "code",
      "execution_count": 20,
      "outputs": [],
      "metadata": {
        "jupyter": {
          "source_hidden": false,
          "outputs_hidden": false
        },
        "nteract": {
          "transient": {
            "deleting": false
          }
        }
      },
      "source": [
        "df_ORD_CANC_SHIP = df_ORD_SHIPPED_final.unionByName(df_ORD_CANC_final).select(column_order)"
      ]
    },
    {
      "cell_type": "markdown",
      "metadata": {
        "nteract": {
          "transient": {
            "deleting": false
          }
        }
      },
      "source": [
        "## Saving to Silver"
      ]
    },
    {
      "cell_type": "code",
      "execution_count": 21,
      "outputs": [],
      "metadata": {
        "jupyter": {
          "source_hidden": false,
          "outputs_hidden": false
        },
        "nteract": {
          "transient": {
            "deleting": false
          }
        }
      },
      "source": [
        "df_ORD_CANC_SHIP\\\r\n",
        ".coalesce(1)\\\r\n",
        ".write\\\r\n",
        ".format(\"delta\")\\\r\n",
        ".mode(\"overwrite\")\\\r\n",
        ".option(\"overwriteSchema\", \"true\")\\\r\n",
        ".partitionBy('DW_PARTITION')\\\r\n",
        ".save(f\"{silver_path}/{object_name}\")"
      ]
    },
    {
      "cell_type": "code",
      "execution_count": 22,
      "outputs": [],
      "metadata": {
        "jupyter": {
          "source_hidden": false,
          "outputs_hidden": false
        },
        "nteract": {
          "transient": {
            "deleting": false
          }
        }
      },
      "source": [
        "# df_ORD_CANC_SHIP.count()"
      ]
    },
    {
      "cell_type": "code",
      "execution_count": 23,
      "outputs": [],
      "metadata": {
        "jupyter": {
          "source_hidden": false,
          "outputs_hidden": false
        },
        "nteract": {
          "transient": {
            "deleting": false
          }
        },
        "collapsed": false
      },
      "source": [
        "# display(df_ORD_CANC_SHIP.where('ORDNUM = \"11002275736\"'))"
      ]
    },
    {
      "cell_type": "code",
      "execution_count": 24,
      "outputs": [],
      "metadata": {
        "jupyter": {
          "source_hidden": false,
          "outputs_hidden": false
        },
        "nteract": {
          "transient": {
            "deleting": false
          }
        }
      },
      "source": [
        "## start: 3:37:45 end 3:41:21 3 mins; row count 7587075"
      ]
    }
  ]
}